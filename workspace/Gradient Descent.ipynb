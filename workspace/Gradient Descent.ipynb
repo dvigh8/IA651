{
 "cells": [
  {
   "cell_type": "code",
   "execution_count": 41,
   "metadata": {},
   "outputs": [
    {
     "name": "stdout",
     "output_type": "stream",
     "text": [
      "Theta = [[2.7465925 ]\n",
      " [2.29251917]]\n"
     ]
    },
    {
     "data": {
      "image/png": "[encoded data removed]",
      "text/plain": [
       "<matplotlib.figure.Figure at 0x7f68573cc5c0>"
      ]
     },
     "metadata": {},
     "output_type": "display_data"
    }
   ],
   "source": [
    "import os, pandas as pd\n",
    "import numpy as np\n",
    "import matplotlib.pyplot as plt\n",
    "\n",
    "X = 2 * np.random.rand(100, 1) # 100 X 1 matrix; Create an array of the given shape and populate it with random samples from a uniform distribution over [0, 1).\n",
    "y = 4 + 3 * X + np.random.randn(100, 1)\n",
    "\n",
    "csv_path = os.path.join(\"./\", \"allPeople.csv\")\n",
    "people = pd.read_csv(csv_path)\n",
    "people.plot(kind='scatter', x=\"weight\", y='height', figsize=(5,3))\n",
    "\n",
    "X = people['weight']\n",
    "y = people['height']\n",
    "X = np.c_[X]\n",
    "y = np.c_[y]\n",
    "\n",
    "X_b = np.c_[np.ones((len(X), 1)), X]  # add x0 = 1 to each instance\n",
    "\n",
    "eta = 0.0001\n",
    "n_iterations = 100\n",
    "m = len(X)\n",
    "theta = np.random.randn(2,1)\n",
    "\n",
    "for i in range(n_iterations):\n",
    "    gradients = 2/m * X_b.T.dot(X_b.dot(theta)-y)\n",
    "    theta = theta - eta * gradients\n",
    "\n",
    "X_new = np.array([[0], [120]])\n",
    "X_new_b = np.c_[np.ones((2, 1)), X_new] \n",
    "y_predict = X_new_b.dot(theta)\n",
    "plt.axis([30, 120, 100, 310])\n",
    "\n",
    "plt.plot(X_new, y_predict, \"r-\")\n",
    "print('Theta = ' + str(theta))\n",
    "plt.show()"
   ]
  },
  {
   "cell_type": "code",
   "execution_count": null,
   "metadata": {},
   "outputs": [],
   "source": []
  }
 ],
 "metadata": {
  "kernelspec": {
   "display_name": "Python 3",
   "language": "python",
   "name": "python3"
  },
  "language_info": {
   "codemirror_mode": {
    "name": "ipython",
    "version": 3
   },
   "file_extension": ".py",
   "mimetype": "text/x-python",
   "name": "python",
   "nbconvert_exporter": "python",
   "pygments_lexer": "ipython3",
   "version": "3.6.4"
  }
 },
 "nbformat": 4,
 "nbformat_minor": 2
}
