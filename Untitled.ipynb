{
 "cells": [
  {
   "cell_type": "code",
   "execution_count": 4,
   "metadata": {},
   "outputs": [
    {
     "name": "stdout",
     "output_type": "stream",
     "text": [
      "hello\n"
     ]
    }
   ],
   "source": [
    "print (\"hello\")"
   ]
  },
  {
   "cell_type": "code",
   "execution_count": 2,
   "metadata": {},
   "outputs": [
    {
     "ename": "SyntaxError",
     "evalue": "Missing parentheses in call to 'print'. Did you mean print(int data)? (<ipython-input-2-9142d31c942e>, line 19)",
     "output_type": "error",
     "traceback": [
      "\u001b[0;36m  File \u001b[0;32m\"<ipython-input-2-9142d31c942e>\"\u001b[0;36m, line \u001b[0;32m19\u001b[0m\n\u001b[0;31m    print data\u001b[0m\n\u001b[0m             ^\u001b[0m\n\u001b[0;31mSyntaxError\u001b[0m\u001b[0;31m:\u001b[0m Missing parentheses in call to 'print'. Did you mean print(int data)?\n"
     ]
    }
   ],
   "source": [
    "import math\n",
    "import socket\n",
    "import threading\n",
    "\n",
    "isser = raw_input()\n",
    "\n",
    "TCP_IP = '127.0.0.1'\n",
    "TCP_PORT = 5005\n",
    "BUFFER_SIZE = 1024\n",
    "s = socket.socket(socket.AF_INET, socket.SOCK_STREAM)\n",
    "def send_mess(a):\n",
    "    while 1:\n",
    "        mess = raw_input()\n",
    "        a.send(mess)\n",
    "    \n",
    "    \n",
    "def get_mess(a):\n",
    "    data = a.recv(BUFFER_SIZE)\n",
    "    print (data)\n",
    "    \n",
    "if isser == 's':\n",
    "    s.bind((TCP_IP, TCP_PORT))\n",
    "    s.listen(1)\n",
    "    \n",
    "    conn, addr = s.accept()\n",
    "#    print 'Connection address:', addr\n",
    "    while 1:\n",
    "        get_mess(conn)\n",
    "        send_mess(conn)  # echo\n",
    "    conn.close()\n",
    "\n",
    "    \n",
    "else:\n",
    "\n",
    "  \n",
    "    \n",
    "    s.connect((TCP_IP, TCP_PORT))\n",
    "    send_mess(s)\n",
    "    data = s.recv(BUFFER_SIZE)\n",
    "#    s.close()\n",
    "    \n",
    "    print (\"received data:\", data)\n",
    "    \n",
    "    "
   ]
  },
  {
   "cell_type": "code",
   "execution_count": null,
   "metadata": {},
   "outputs": [],
   "source": []
  }
 ],
 "metadata": {
  "kernelspec": {
   "display_name": "Python 3",
   "language": "python",
   "name": "python3"
  },
  "language_info": {
   "codemirror_mode": {
    "name": "ipython",
    "version": 3
   },
   "file_extension": ".py",
   "mimetype": "text/x-python",
   "name": "python",
   "nbconvert_exporter": "python",
   "pygments_lexer": "ipython3",
   "version": "3.6.4"
  }
 },
 "nbformat": 4,
 "nbformat_minor": 2
}
